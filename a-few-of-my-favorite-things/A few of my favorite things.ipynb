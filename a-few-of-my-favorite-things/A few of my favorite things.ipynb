{
 "cells": [
  {
   "cell_type": "markdown",
   "metadata": {
    "collapsed": true,
    "slideshow": {
     "slide_type": "slide"
    }
   },
   "source": [
    "# A few of my favorite things"
   ]
  },
  {
   "cell_type": "markdown",
   "metadata": {
    "slideshow": {
     "slide_type": "slide"
    }
   },
   "source": [
    "## About me\n",
    "* Data Scientist\n",
    "* Intensive use of Python for a full year\n",
    "* Lesser-known Python libraries which I find tremendously useful"
   ]
  },
  {
   "cell_type": "markdown",
   "metadata": {
    "slideshow": {
     "slide_type": "slide"
    }
   },
   "source": [
    "## Tenacity\n",
    "\n",
    "*What could possibly go wrong?*\n",
    "\n"
   ]
  },
  {
   "cell_type": "markdown",
   "metadata": {
    "slideshow": {
     "slide_type": "subslide"
    }
   },
   "source": [
    "## Tenacity\n",
    "\n",
    "Because remote access do not always work on the first time\n",
    "\n",
    "**Issue** Timeout exception management is boring, nested exception management is a pain.\n",
    "\n",
    "**Pros** Simply use a decorator on your function, easy customisation to get the behaviour you need"
   ]
  },
  {
   "cell_type": "markdown",
   "metadata": {
    "slideshow": {
     "slide_type": "subslide"
    }
   },
   "source": [
    "## Tenacity"
   ]
  },
  {
   "cell_type": "code",
   "execution_count": 1,
   "metadata": {
    "collapsed": true,
    "slideshow": {
     "slide_type": "fragment"
    }
   },
   "outputs": [],
   "source": [
    "from tenacity import retry\n",
    "\n",
    "@retry\n",
    "def load_data_from_remote_db(params):\n",
    "    pass"
   ]
  },
  {
   "cell_type": "markdown",
   "metadata": {
    "slideshow": {
     "slide_type": "subslide"
    }
   },
   "source": [
    "## Tenacity"
   ]
  },
  {
   "cell_type": "code",
   "execution_count": 2,
   "metadata": {
    "collapsed": false,
    "slideshow": {
     "slide_type": "fragment"
    }
   },
   "outputs": [],
   "source": [
    "from tenacity import retry, stop_after_attempt, wait_exponential, retry_if_exception_type\n",
    "\n",
    "\n",
    "class TimeOut(Exception):\n",
    "    pass\n",
    "\n",
    "\n",
    "@retry(stop=stop_after_attempt(10), \n",
    "       wait=wait_exponential(multiplier=2, max=10), \n",
    "       retry=retry_if_exception_type(TimeOut), \n",
    "       reraise=True)\n",
    "def load_data_from_remote_db(params):\n",
    "    pass"
   ]
  },
  {
   "cell_type": "markdown",
   "metadata": {
    "slideshow": {
     "slide_type": "slide"
    }
   },
   "source": [
    "## Hypothesis\n",
    "\n",
    "*Better testing with less effort*"
   ]
  },
  {
   "cell_type": "markdown",
   "metadata": {
    "slideshow": {
     "slide_type": "subslide"
    }
   },
   "source": [
    "## Hypothesis\n",
    "\n",
    "**Old-school tests**\n",
    "1. Create some data\n",
    "2. Apply the function\n",
    "3. Assert something about the result\n"
   ]
  },
  {
   "cell_type": "markdown",
   "metadata": {
    "slideshow": {
     "slide_type": "subslide"
    }
   },
   "source": [
    "## Hypothesis\n",
    "\n",
    "**Tests with Hypothesis**\n",
    "1. Specify your input data\n",
    "2. Apply the function\n",
    "3. Assert something about the result\n"
   ]
  },
  {
   "cell_type": "markdown",
   "metadata": {
    "slideshow": {
     "slide_type": "subslide"
    }
   },
   "source": [
    "## Hypothesis\n",
    "\n",
    "Because generating data for testing is boring, and humans always miss an interesting case\n",
    "\n",
    "**Issue** My code is very much data dependent, but I cannot cover all possible cases. Also, data sanity checks. \n",
    "\n",
    "**Pros** Focus on specifying your data; randomly chosen parameters; great for data health checks"
   ]
  },
  {
   "cell_type": "markdown",
   "metadata": {
    "slideshow": {
     "slide_type": "subslide"
    }
   },
   "source": [
    "## Hypothesis"
   ]
  },
  {
   "cell_type": "code",
   "execution_count": 3,
   "metadata": {
    "collapsed": false
   },
   "outputs": [],
   "source": [
    "from hypothesis import given, assume, example\n",
    "from hypothesis.strategies import integers, floats, sampled_from\n",
    "\n",
    "possible_values = ['auto', 'cauchy', 'schwartz']\n",
    "\n",
    "@given(param1=sampled_from(possible_values),\n",
    "       param2=floats(min_value=-2.3, max_value=2.5),\n",
    "       begin=integers(min_value=0, max_value=25),\n",
    "       end=integers(min_value=2, max_value=32))\n",
    "@example(param1='auto', param2=0, begin=0, end=1)\n",
    "def parametrised_test_on_data(param1, param2, begin, end):\n",
    "    assume(begin < end)\n",
    "    assume(end - begin < 10)\n",
    "    # do stuffs "
   ]
  },
  {
   "cell_type": "markdown",
   "metadata": {
    "slideshow": {
     "slide_type": "subslide"
    }
   },
   "source": [
    "## Hypothesis\n",
    " **Bonus round** ``hypothesis.extra.numpy`` generates numpy arrays ! "
   ]
  },
  {
   "cell_type": "markdown",
   "metadata": {
    "slideshow": {
     "slide_type": "slide"
    }
   },
   "source": [
    "## TDDA\n",
    "\n",
    "*The library I wish I had written*"
   ]
  },
  {
   "cell_type": "markdown",
   "metadata": {
    "slideshow": {
     "slide_type": "subslide"
    }
   },
   "source": [
    "## TDDA\n",
    "\n",
    "Because data dependency makes code harder to test \n",
    "\n",
    "* Reference tests: ``tdda.referencetest`` \n",
    "* Automatic discovery of constraints: ``tdda.constraints``\n",
    "\n"
   ]
  },
  {
   "cell_type": "markdown",
   "metadata": {
    "slideshow": {
     "slide_type": "subslide"
    }
   },
   "source": [
    "## TDDA\n",
    "\n",
    "``tdda.referencetest`` \n",
    "\n",
    "**Issue** Reference tests are sometimes the best we have, but their maintenance is time-consuming.\n",
    "\n",
    "**Pros** Built-in comparisons of pandas DataFrames, CSV files, and text files, easy update of references"
   ]
  },
  {
   "cell_type": "markdown",
   "metadata": {
    "slideshow": {
     "slide_type": "subslide"
    }
   },
   "source": [
    "## TDDA"
   ]
  },
  {
   "cell_type": "code",
   "execution_count": 4,
   "metadata": {
    "collapsed": true,
    "slideshow": {
     "slide_type": "fragment"
    }
   },
   "outputs": [],
   "source": [
    "import pytest\n",
    "from tdda.referencetest import referencepytest\n",
    "\n",
    "def pytest_addoption(parser):\n",
    "    referencepytest.addoption(parser)\n",
    "\n",
    "@pytest.fixture(scope='module')\n",
    "def ref(request):\n",
    "    r = referencepytest.ref(request)\n",
    "    r.set_data_location('testdata')\n",
    "    return r"
   ]
  },
  {
   "cell_type": "markdown",
   "metadata": {
    "slideshow": {
     "slide_type": "subslide"
    }
   },
   "source": [
    "## TDDA"
   ]
  },
  {
   "cell_type": "code",
   "execution_count": 5,
   "metadata": {
    "collapsed": true,
    "slideshow": {
     "slide_type": "fragment"
    }
   },
   "outputs": [],
   "source": [
    "import pandas as pd\n",
    "\n",
    "def produce_data_somehow():\n",
    "    return df\n",
    "\n",
    "def test_produce_data_somehow(ref):\n",
    "    resultframe = produce_data_somehow()  \n",
    "    ref.assertDataFrameCorrect(resultframe, 'result.csv')    \n"
   ]
  },
  {
   "cell_type": "markdown",
   "metadata": {},
   "source": [
    "## TDDA\n",
    "\n",
    "Rewrite references files if your code has changed : ``pytest --write-all -s``"
   ]
  },
  {
   "cell_type": "markdown",
   "metadata": {
    "slideshow": {
     "slide_type": "subslide"
    }
   },
   "source": [
    "## TDDA\n",
    "\n",
    "``tdda.constraints``\n",
    "\n",
    "**Issue** We should all check the distributions of our datasets, but we rarely do.\n",
    "\n",
    "**Pros** Automatic generation of constraings, which can be manually curated afterwards\n"
   ]
  },
  {
   "cell_type": "markdown",
   "metadata": {
    "slideshow": {
     "slide_type": "subslide"
    }
   },
   "source": [
    "## TDDA\n",
    "\n",
    "``tdda discover input-file constraints.tdda`` \n",
    "\n",
    "``tdda verify input-file constraints.tdda``"
   ]
  },
  {
   "cell_type": "markdown",
   "metadata": {
    "slideshow": {
     "slide_type": "subslide"
    }
   },
   "source": [
    "## TDDA"
   ]
  },
  {
   "cell_type": "code",
   "execution_count": 6,
   "metadata": {
    "collapsed": true,
    "slideshow": {
     "slide_type": "fragment"
    }
   },
   "outputs": [],
   "source": [
    "import pandas as pd\n",
    "from tdda.constraints.pdconstraints import discover_constraints\n",
    "\n",
    "df = pd.DataFrame({'a': [1, 2, 3], 'b': ['one', 'two', pd.np.NaN]})\n",
    "constraints = discover_constraints(df)\n",
    "with open('example_constraints.tdda', 'w') as f:\n",
    "    f.write(constraints.to_json())"
   ]
  },
  {
   "cell_type": "markdown",
   "metadata": {
    "slideshow": {
     "slide_type": "subslide"
    }
   },
   "source": [
    "## TDDA\n",
    " **Bonus round** ``engarde``  is another nice library for checking your datasets, using decorators (but written by hand)"
   ]
  },
  {
   "cell_type": "code",
   "execution_count": 7,
   "metadata": {
    "collapsed": false,
    "slideshow": {
     "slide_type": "fragment"
    }
   },
   "outputs": [],
   "source": [
    "import engarde.decorators as ed\n",
    "\n",
    "dtypes = dict(\n",
    "    col1=int,\n",
    "    col2=int)\n",
    "\n",
    "@ed.is_shape((None, 10))\n",
    "@ed.has_dtypes(items=dtypes)\n",
    "@ed.none_missing()\n",
    "@ed.within_range({'col3':[0, 150]})\n",
    "def load_df():\n",
    "    return df"
   ]
  },
  {
   "cell_type": "markdown",
   "metadata": {
    "slideshow": {
     "slide_type": "slide"
    }
   },
   "source": [
    "That's all folks !"
   ]
  }
 ],
 "metadata": {
  "anaconda-cloud": {},
  "celltoolbar": "Slideshow",
  "kernelspec": {
   "display_name": "Python [conda env:waykonect_dev]",
   "language": "python",
   "name": "conda-env-waykonect_dev-py"
  },
  "language_info": {
   "codemirror_mode": {
    "name": "ipython",
    "version": 3
   },
   "file_extension": ".py",
   "mimetype": "text/x-python",
   "name": "python",
   "nbconvert_exporter": "python",
   "pygments_lexer": "ipython3",
   "version": "3.5.2"
  }
 },
 "nbformat": 4,
 "nbformat_minor": 2
}
