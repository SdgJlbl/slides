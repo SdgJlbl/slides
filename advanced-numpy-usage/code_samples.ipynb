{
 "cells": [
  {
   "cell_type": "markdown",
   "metadata": {},
   "source": [
    "# Advanced NumPy usage"
   ]
  },
  {
   "cell_type": "code",
   "execution_count": 1,
   "metadata": {},
   "outputs": [],
   "source": [
    "from random import randint\n",
    "\n",
    "gold = [randint(0, 100) for i in range(10000000)]"
   ]
  },
  {
   "cell_type": "code",
   "execution_count": 2,
   "metadata": {},
   "outputs": [
    {
     "name": "stdout",
     "output_type": "stream",
     "text": [
      "876 ms ± 1.93 ms per loop (mean ± std. dev. of 7 runs, 1 loop each)\n"
     ]
    }
   ],
   "source": [
    "%%timeit\n",
    "silver = []\n",
    "for gold_value in gold:\n",
    "    silver.append(12 * gold_value)"
   ]
  },
  {
   "cell_type": "code",
   "execution_count": 3,
   "metadata": {},
   "outputs": [
    {
     "name": "stdout",
     "output_type": "stream",
     "text": [
      "410 ms ± 2.4 ms per loop (mean ± std. dev. of 7 runs, 1 loop each)\n"
     ]
    }
   ],
   "source": [
    "%timeit silver = [12 * gold_value for gold_value in gold]"
   ]
  },
  {
   "cell_type": "code",
   "execution_count": 1,
   "metadata": {},
   "outputs": [],
   "source": [
    "import numpy as np\n",
    "gold = np.random.randint(0, 100, (10000000,))"
   ]
  },
  {
   "cell_type": "code",
   "execution_count": 2,
   "metadata": {},
   "outputs": [
    {
     "name": "stdout",
     "output_type": "stream",
     "text": [
      "2.82 s ± 168 ms per loop (mean ± std. dev. of 7 runs, 1 loop each)\n"
     ]
    }
   ],
   "source": [
    "%%timeit\n",
    "silver = np.empty(gold.shape)\n",
    "for i in range(gold.shape[0]):\n",
    "    silver[i] = 12 * gold[i]"
   ]
  },
  {
   "cell_type": "code",
   "execution_count": 3,
   "metadata": {},
   "outputs": [
    {
     "name": "stdout",
     "output_type": "stream",
     "text": [
      "31.8 ms ± 4.41 ms per loop (mean ± std. dev. of 7 runs, 10 loops each)\n"
     ]
    }
   ],
   "source": [
    "%timeit silver = 12 * gold"
   ]
  },
  {
   "cell_type": "code",
   "execution_count": 2,
   "metadata": {},
   "outputs": [
    {
     "ename": "ValueError",
     "evalue": "operands could not be broadcast together with shapes (10,) (5,) ",
     "output_type": "error",
     "traceback": [
      "\u001b[0;31m---------------------------------------------------------------------------\u001b[0m",
      "\u001b[0;31mValueError\u001b[0m                                Traceback (most recent call last)",
      "\u001b[0;32m<ipython-input-2-08efca882d8b>\u001b[0m in \u001b[0;36m<module>\u001b[0;34m()\u001b[0m\n\u001b[1;32m      1\u001b[0m \u001b[0mloots\u001b[0m \u001b[0;34m=\u001b[0m \u001b[0mnp\u001b[0m\u001b[0;34m.\u001b[0m\u001b[0mrandom\u001b[0m\u001b[0;34m.\u001b[0m\u001b[0mrandint\u001b[0m\u001b[0;34m(\u001b[0m\u001b[0;36m0\u001b[0m\u001b[0;34m,\u001b[0m \u001b[0;36m100\u001b[0m\u001b[0;34m,\u001b[0m \u001b[0;34m(\u001b[0m\u001b[0;36m10\u001b[0m\u001b[0;34m,\u001b[0m\u001b[0;34m)\u001b[0m\u001b[0;34m)\u001b[0m\u001b[0;34m\u001b[0m\u001b[0m\n\u001b[1;32m      2\u001b[0m \u001b[0mshares\u001b[0m \u001b[0;34m=\u001b[0m \u001b[0mnp\u001b[0m\u001b[0;34m.\u001b[0m\u001b[0marray\u001b[0m\u001b[0;34m(\u001b[0m\u001b[0;34m[\u001b[0m\u001b[0;36m.7\u001b[0m\u001b[0;34m,\u001b[0m \u001b[0;36m1.\u001b[0m\u001b[0;34m,\u001b[0m \u001b[0;36m1.3\u001b[0m\u001b[0;34m,\u001b[0m \u001b[0;36m2.\u001b[0m\u001b[0;34m,\u001b[0m \u001b[0;36m1.\u001b[0m\u001b[0;34m]\u001b[0m\u001b[0;34m)\u001b[0m\u001b[0;34m\u001b[0m\u001b[0m\n\u001b[0;32m----> 3\u001b[0;31m \u001b[0mloots\u001b[0m \u001b[0;34m*\u001b[0m \u001b[0mshares\u001b[0m\u001b[0;34m\u001b[0m\u001b[0m\n\u001b[0m",
      "\u001b[0;31mValueError\u001b[0m: operands could not be broadcast together with shapes (10,) (5,) "
     ]
    }
   ],
   "source": [
    "loots = np.random.randint(0, 100, (10,))\n",
    "shares = np.array([.7, 1., 1.3, 2., 1.])\n",
    "loots * shares"
   ]
  },
  {
   "cell_type": "code",
   "execution_count": 2,
   "metadata": {},
   "outputs": [
    {
     "data": {
      "text/plain": [
       "array([ 7, 74, 65, 88,  9, 26, 53, 62, 12, 68])"
      ]
     },
     "execution_count": 2,
     "metadata": {},
     "output_type": "execute_result"
    }
   ],
   "source": [
    "gold = np.random.randint(0, 100, (10,))\n",
    "gold"
   ]
  },
  {
   "cell_type": "code",
   "execution_count": 3,
   "metadata": {},
   "outputs": [
    {
     "data": {
      "text/plain": [
       "array([12., 12., 12., 12., 12., 12., 12., 12., 12., 12.])"
      ]
     },
     "execution_count": 3,
     "metadata": {},
     "output_type": "execute_result"
    }
   ],
   "source": [
    "ratio = np.array(12)\n",
    "ratio_wide = ratio * np.ones(gold.shape)\n",
    "ratio_wide"
   ]
  },
  {
   "cell_type": "code",
   "execution_count": 4,
   "metadata": {},
   "outputs": [
    {
     "data": {
      "text/plain": [
       "array([  84.,  888.,  780., 1056.,  108.,  312.,  636.,  744.,  144.,\n",
       "        816.])"
      ]
     },
     "execution_count": 4,
     "metadata": {},
     "output_type": "execute_result"
    }
   ],
   "source": [
    "gold * ratio_wide"
   ]
  },
  {
   "cell_type": "code",
   "execution_count": 3,
   "metadata": {},
   "outputs": [
    {
     "data": {
      "text/plain": [
       "array([59,  5, 41, 54, 38, 28, 55, 42, 69, 97])"
      ]
     },
     "execution_count": 3,
     "metadata": {},
     "output_type": "execute_result"
    }
   ],
   "source": [
    "loots"
   ]
  },
  {
   "cell_type": "code",
   "execution_count": 4,
   "metadata": {},
   "outputs": [
    {
     "data": {
      "text/plain": [
       "(10,)"
      ]
     },
     "execution_count": 4,
     "metadata": {},
     "output_type": "execute_result"
    }
   ],
   "source": [
    "loots.shape"
   ]
  },
  {
   "cell_type": "code",
   "execution_count": 5,
   "metadata": {},
   "outputs": [
    {
     "data": {
      "text/plain": [
       "array([[59],\n",
       "       [ 5],\n",
       "       [41],\n",
       "       [54],\n",
       "       [38],\n",
       "       [28],\n",
       "       [55],\n",
       "       [42],\n",
       "       [69],\n",
       "       [97]])"
      ]
     },
     "execution_count": 5,
     "metadata": {},
     "output_type": "execute_result"
    }
   ],
   "source": [
    "loots[:, np.newaxis]"
   ]
  },
  {
   "cell_type": "code",
   "execution_count": 6,
   "metadata": {},
   "outputs": [
    {
     "data": {
      "text/plain": [
       "(10, 1)"
      ]
     },
     "execution_count": 6,
     "metadata": {},
     "output_type": "execute_result"
    }
   ],
   "source": [
    "loots[:, np.newaxis].shape"
   ]
  },
  {
   "cell_type": "code",
   "execution_count": 7,
   "metadata": {},
   "outputs": [
    {
     "data": {
      "text/plain": [
       "array([[59],\n",
       "       [ 5],\n",
       "       [41],\n",
       "       [54],\n",
       "       [38],\n",
       "       [28],\n",
       "       [55],\n",
       "       [42],\n",
       "       [69],\n",
       "       [97]])"
      ]
     },
     "execution_count": 7,
     "metadata": {},
     "output_type": "execute_result"
    }
   ],
   "source": [
    "loots[:, None]"
   ]
  },
  {
   "cell_type": "code",
   "execution_count": 12,
   "metadata": {},
   "outputs": [
    {
     "data": {
      "text/plain": [
       "True"
      ]
     },
     "execution_count": 12,
     "metadata": {},
     "output_type": "execute_result"
    }
   ],
   "source": [
    "np.newaxis is None"
   ]
  },
  {
   "cell_type": "code",
   "execution_count": 5,
   "metadata": {},
   "outputs": [
    {
     "data": {
      "text/plain": [
       "array([[ 10.5,  15. ,  19.5,  30. ,  15. ],\n",
       "       [ 28.7,  41. ,  53.3,  82. ,  41. ],\n",
       "       [ 56.7,  81. , 105.3, 162. ,  81. ],\n",
       "       [ 46.9,  67. ,  87.1, 134. ,  67. ],\n",
       "       [ 28.7,  41. ,  53.3,  82. ,  41. ],\n",
       "       [ 53.2,  76. ,  98.8, 152. ,  76. ],\n",
       "       [ 18.9,  27. ,  35.1,  54. ,  27. ],\n",
       "       [ 22.4,  32. ,  41.6,  64. ,  32. ],\n",
       "       [  2.8,   4. ,   5.2,   8. ,   4. ],\n",
       "       [ 49.7,  71. ,  92.3, 142. ,  71. ]])"
      ]
     },
     "execution_count": 5,
     "metadata": {},
     "output_type": "execute_result"
    }
   ],
   "source": [
    "loots = np.random.randint(0, 100, (10,))\n",
    "shares = np.array([.7, 1., 1.3, 2., 1.])\n",
    "loots[:, np.newaxis] * shares"
   ]
  },
  {
   "cell_type": "code",
   "execution_count": 4,
   "metadata": {},
   "outputs": [
    {
     "data": {
      "text/plain": [
       "array([[72, 15, 48, 22],\n",
       "       [68,  8, 44, 87],\n",
       "       [65, 12, 56, 28],\n",
       "       [82,  7, 78,  0],\n",
       "       [67, 11, 62, 14]])"
      ]
     },
     "execution_count": 4,
     "metadata": {},
     "output_type": "execute_result"
    }
   ],
   "source": [
    "names = np.array(['bard', 'mage', 'leader', 'paladin', 'ranger'])\n",
    "# character attributes = health, speed, strength, mana\n",
    "attributes = np.array([[72, 15, 48, 22],\n",
    "                      [68, 8, 44, 87],\n",
    "                      [65, 12, 56, 28],\n",
    "                      [82, 7, 78, 0],\n",
    "                      [67, 11, 62, 14]])\n",
    "attributes"
   ]
  },
  {
   "cell_type": "code",
   "execution_count": 3,
   "metadata": {},
   "outputs": [
    {
     "data": {
      "text/plain": [
       "array([2, 4, 1, 0, 3])"
      ]
     },
     "execution_count": 3,
     "metadata": {},
     "output_type": "execute_result"
    }
   ],
   "source": [
    "sorter = attributes[:, 0].argsort()\n",
    "sorter"
   ]
  },
  {
   "cell_type": "code",
   "execution_count": 4,
   "metadata": {},
   "outputs": [
    {
     "data": {
      "text/plain": [
       "array([[65, 12, 56, 28],\n",
       "       [67, 11, 62, 14],\n",
       "       [68,  8, 44, 87],\n",
       "       [72, 15, 48, 22],\n",
       "       [82,  7, 78,  0]])"
      ]
     },
     "execution_count": 4,
     "metadata": {},
     "output_type": "execute_result"
    }
   ],
   "source": [
    "attributes[sorter]"
   ]
  },
  {
   "cell_type": "code",
   "execution_count": 5,
   "metadata": {},
   "outputs": [
    {
     "data": {
      "text/plain": [
       "array(['leader', 'ranger', 'mage', 'bard', 'paladin'], dtype='<U7')"
      ]
     },
     "execution_count": 5,
     "metadata": {},
     "output_type": "execute_result"
    }
   ],
   "source": [
    "names[sorter]"
   ]
  },
  {
   "cell_type": "code",
   "execution_count": null,
   "metadata": {},
   "outputs": [],
   "source": []
  },
  {
   "cell_type": "code",
   "execution_count": 11,
   "metadata": {},
   "outputs": [
    {
     "data": {
      "text/plain": [
       "array([[ 50.4,  68. ,  84.5, 164. ,  67. ],\n",
       "       [ 10.5,   8. ,  15.6,  14. ,  11. ],\n",
       "       [ 33.6,  44. ,  72.8, 156. ,  62. ],\n",
       "       [ 15.4,  87. ,  36.4,   0. ,  14. ]])"
      ]
     },
     "execution_count": 11,
     "metadata": {},
     "output_type": "execute_result"
    }
   ],
   "source": [
    "contributions = np.array([.7, 1., 1.3, 2., 1.])\n",
    "attributes.T * contributions"
   ]
  },
  {
   "cell_type": "code",
   "execution_count": 8,
   "metadata": {},
   "outputs": [
    {
     "data": {
      "text/plain": [
       "array([-97,   5,   8, -59,  -3, -40,  30,  58,  -3,  -9])"
      ]
     },
     "execution_count": 8,
     "metadata": {},
     "output_type": "execute_result"
    }
   ],
   "source": [
    "loots = np.random.randint(-100, 100, (10,))\n",
    "loots"
   ]
  },
  {
   "cell_type": "code",
   "execution_count": 9,
   "metadata": {},
   "outputs": [
    {
     "data": {
      "text/plain": [
       "array([False,  True,  True, False, False, False,  True,  True, False,\n",
       "       False])"
      ]
     },
     "execution_count": 9,
     "metadata": {},
     "output_type": "execute_result"
    }
   ],
   "source": [
    "loots > 0"
   ]
  },
  {
   "cell_type": "code",
   "execution_count": 10,
   "metadata": {},
   "outputs": [
    {
     "data": {
      "text/plain": [
       "array([ 5,  8, 30, 58])"
      ]
     },
     "execution_count": 10,
     "metadata": {},
     "output_type": "execute_result"
    }
   ],
   "source": [
    "loots[loots > 0]"
   ]
  },
  {
   "cell_type": "code",
   "execution_count": 12,
   "metadata": {},
   "outputs": [
    {
     "data": {
      "text/plain": [
       "array([ 5,  8, 30])"
      ]
     },
     "execution_count": 12,
     "metadata": {},
     "output_type": "execute_result"
    }
   ],
   "source": [
    "loots[np.logical_and(loots >= 5, loots <= 30)]"
   ]
  },
  {
   "cell_type": "code",
   "execution_count": 2,
   "metadata": {},
   "outputs": [],
   "source": [
    "dungeon_difficulties = np.array([[  7,   7,   5,   1,   5,   6,   9,   6,  10,   4,   2,   3],\n",
    "                                 [ 10,  16,  12,  12,  18,   0,  16,  20,  12,   4,  12,  12],\n",
    "                                 [  3,   3,  12,  15,   6,  12,  27,   6,   3,  30,  15,  27],\n",
    "                                 [ 24,  12,  40,  32,  40,  12,  12,  16,  24,   4,  16,   4],\n",
    "                                 [ 25,   0,  35,   0,  40,  50,  40,  20,  35,  25,  25,  35],\n",
    "                                 [ 30,  24,  36,  48,  42,   6,  18,  54,  36,  54,  12,  24],\n",
    "                                 [ 49,  28,  42,  70,  21,  42,   7,  42,  49,  42,   0,  63],\n",
    "                                 [  8,  16,  72,  16,  24,  40,  40,  40,  64,  24,  24,   8],\n",
    "                                 [ 81,  62,  18,  81,  81,  27,  27,  45,  18,  27,  90,  36],\n",
    "                                 [ 80,  90,  20, 100,  80,  90,  50,  80,  70,  90,  60,  40]])"
   ]
  },
  {
   "cell_type": "code",
   "execution_count": 3,
   "metadata": {},
   "outputs": [
    {
     "data": {
      "text/plain": [
       "array([10, 35, 16])"
      ]
     },
     "execution_count": 3,
     "metadata": {},
     "output_type": "execute_result"
    }
   ],
   "source": [
    "dungeon_difficulties[[1, 4, 7], [0, 2, 3]]"
   ]
  },
  {
   "cell_type": "code",
   "execution_count": 4,
   "metadata": {},
   "outputs": [
    {
     "data": {
      "text/plain": [
       "array([[10, 12, 12],\n",
       "       [25, 35,  0],\n",
       "       [ 8, 72, 16]])"
      ]
     },
     "execution_count": 4,
     "metadata": {},
     "output_type": "execute_result"
    }
   ],
   "source": [
    "dungeon_difficulties[np.ix_([1, 4, 7], [0, 2, 3])]"
   ]
  },
  {
   "cell_type": "code",
   "execution_count": 7,
   "metadata": {},
   "outputs": [
    {
     "data": {
      "text/plain": [
       "array([[1, 1, 1, 1, 1, 1, 1, 1, 1, 1, 1, 1],\n",
       "       [1, 1, 1, 1, 1, 1, 1, 1, 1, 1, 1, 1],\n",
       "       [1, 1, 1, 1, 1, 1, 1, 1, 1, 1, 1, 1],\n",
       "       [1, 1, 1, 1, 1, 1, 1, 1, 1, 1, 1, 1],\n",
       "       [1, 1, 1, 1, 1, 1, 1, 1, 1, 1, 1, 1],\n",
       "       [1, 1, 1, 1, 1, 1, 1, 1, 1, 1, 1, 1],\n",
       "       [1, 1, 1, 1, 1, 1, 1, 1, 1, 1, 1, 1],\n",
       "       [1, 1, 1, 1, 1, 1, 1, 1, 1, 1, 1, 1],\n",
       "       [1, 1, 1, 1, 1, 1, 1, 1, 1, 1, 1, 1],\n",
       "       [1, 1, 1, 1, 1, 1, 1, 1, 1, 1, 1, 1]])"
      ]
     },
     "execution_count": 7,
     "metadata": {},
     "output_type": "execute_result"
    }
   ],
   "source": [
    "np.ones(dungeon_difficulties.shape).astype(int)"
   ]
  },
  {
   "cell_type": "code",
   "execution_count": 1,
   "metadata": {},
   "outputs": [],
   "source": [
    "import numpy as np"
   ]
  },
  {
   "cell_type": "code",
   "execution_count": 2,
   "metadata": {},
   "outputs": [],
   "source": [
    "objects_in_dungeons = np.array([[1, 1, 1, 2, 1, 3, 1, 5, 7, 1, 1, 9],\n",
    "                                [1, 1, 1, 1, 2, 2, 2, 1, 1, 1, 1, 10],\n",
    "                                [1, 1, 1, 5, 1, 1, 3, 1, 2, 1, 1, 8],\n",
    "                                [1, 1, 1, 1, 10, 1, 1, 2, 2, 2, 1, 13],\n",
    "                                [1, 1, 1, 2, 3, 3, 5, 8, 1, 2, 4, 10],\n",
    "                                [2, 3, 2, 2, 1, 5, 6, 1, 9, 2, 7, 6],\n",
    "                                [2, 2, 2, 1, 8, 2, 2, 1, 6, 1, 5, 12],\n",
    "                                [3, 2, 3, 5, 1, 1, 4, 2, 1, 7, 1, 9],\n",
    "                                [3, 3, 2, 2, 4, 3, 6, 2, 8, 1, 1, 17],\n",
    "                                [2, 2, 2, 3, 3, 1, 8, 1, 1, 1, 1, 18]])"
   ]
  },
  {
   "cell_type": "code",
   "execution_count": 3,
   "metadata": {},
   "outputs": [
    {
     "data": {
      "text/plain": [
       "(array([2, 4, 6, 8, 9]), array([11,  7,  4,  8,  6]))"
      ]
     },
     "execution_count": 3,
     "metadata": {},
     "output_type": "execute_result"
    }
   ],
   "source": [
    "np.isin(objects_in_dungeons, 8).nonzero()"
   ]
  },
  {
   "cell_type": "code",
   "execution_count": 4,
   "metadata": {},
   "outputs": [
    {
     "data": {
      "text/plain": [
       "array([10, 10, 13, 10, 12, 17, 18])"
      ]
     },
     "execution_count": 4,
     "metadata": {},
     "output_type": "execute_result"
    }
   ],
   "source": [
    "objects_in_dungeons[np.isin(objects_in_dungeons, np.arange(10, 20))]"
   ]
  },
  {
   "cell_type": "code",
   "execution_count": 5,
   "metadata": {},
   "outputs": [
    {
     "data": {
      "text/plain": [
       "(array([0, 0, 0, 0, 1, 3, 3, 6]), array([ 0,  1,  3,  9,  9,  9, 11,  6]))"
      ]
     },
     "execution_count": 5,
     "metadata": {},
     "output_type": "execute_result"
    }
   ],
   "source": [
    "dungeon_list = np.array([1, 4, 7])\n",
    "floor_list = np.array([0, 2, 3])\n",
    "np.isin(dungeon_difficulties, dungeon_list)"
   ]
  },
  {
   "cell_type": "code",
   "execution_count": 44,
   "metadata": {},
   "outputs": [
    {
     "name": "stdout",
     "output_type": "stream",
     "text": [
      "803 ns ± 10.1 ns per loop (mean ± std. dev. of 7 runs, 1000000 loops each)\n"
     ]
    }
   ],
   "source": [
    "%timeit dungeon_difficulties == 81"
   ]
  },
  {
   "cell_type": "code",
   "execution_count": 45,
   "metadata": {},
   "outputs": [
    {
     "name": "stdout",
     "output_type": "stream",
     "text": [
      "10 µs ± 25.5 ns per loop (mean ± std. dev. of 7 runs, 100000 loops each)\n"
     ]
    }
   ],
   "source": [
    "%timeit np.isin(dungeon_difficulties, np.array([81]))"
   ]
  },
  {
   "cell_type": "code",
   "execution_count": null,
   "metadata": {},
   "outputs": [],
   "source": [
    "dungeon_difficulties[dungeon_difficulties]"
   ]
  },
  {
   "cell_type": "code",
   "execution_count": null,
   "metadata": {},
   "outputs": [],
   "source": []
  },
  {
   "cell_type": "code",
   "execution_count": null,
   "metadata": {},
   "outputs": [],
   "source": []
  },
  {
   "cell_type": "code",
   "execution_count": 37,
   "metadata": {},
   "outputs": [],
   "source": [
    "N = 10000\n",
    "large_dungeons = (np.arange(10, 110, N)[:, None] * np.round(np.random.rand(N, 12), decimals=1)).astype(int)"
   ]
  },
  {
   "cell_type": "code",
   "execution_count": 1,
   "metadata": {},
   "outputs": [],
   "source": [
    "import numpy as np"
   ]
  },
  {
   "cell_type": "code",
   "execution_count": 2,
   "metadata": {},
   "outputs": [
    {
     "data": {
      "text/plain": [
       "array([[43, 79, 43, 60, 59, 71, 22, 62, 88, 90, 60, 32],\n",
       "       [30, 80, 81, 40, 31, 23,  3, 10, 99, 58, 99, 49],\n",
       "       [ 5, 52, 28, 12, 32,  2, 94, 48,  4, 50, 76,  3],\n",
       "       [14, 31, 38, 56, 68,  0, 12, 23,  7, 99, 66, 48],\n",
       "       [53, 79,  6, 76, 65, 37, 28,  8, 74, 46, 66, 95]])"
      ]
     },
     "execution_count": 2,
     "metadata": {},
     "output_type": "execute_result"
    }
   ],
   "source": [
    "loots_per_character_per_floor = np.random.randint(0, 100, (10, 5, 12))\n",
    "loots_per_character_per_floor[0]"
   ]
  },
  {
   "cell_type": "code",
   "execution_count": 3,
   "metadata": {},
   "outputs": [
    {
     "data": {
      "text/plain": [
       "array([[32, 49,  3, 48, 95],\n",
       "       [82, 87, 14, 73, 31],\n",
       "       [56, 64, 62, 43, 59],\n",
       "       [87, 61, 86, 42, 58],\n",
       "       [36, 68,  4, 39, 76],\n",
       "       [98, 22, 14, 93,  4],\n",
       "       [23, 83, 29, 51, 56],\n",
       "       [21,  1, 51, 27, 73],\n",
       "       [ 8, 63,  9, 62, 74],\n",
       "       [13, 89, 25, 15, 91]])"
      ]
     },
     "execution_count": 3,
     "metadata": {},
     "output_type": "execute_result"
    }
   ],
   "source": [
    "loots_per_character_per_floor[:, :, -1]"
   ]
  },
  {
   "cell_type": "code",
   "execution_count": 4,
   "metadata": {},
   "outputs": [
    {
     "data": {
      "text/plain": [
       "array([[32, 49,  3, 48, 95],\n",
       "       [82, 87, 14, 73, 31],\n",
       "       [56, 64, 62, 43, 59],\n",
       "       [87, 61, 86, 42, 58],\n",
       "       [36, 68,  4, 39, 76],\n",
       "       [98, 22, 14, 93,  4],\n",
       "       [23, 83, 29, 51, 56],\n",
       "       [21,  1, 51, 27, 73],\n",
       "       [ 8, 63,  9, 62, 74],\n",
       "       [13, 89, 25, 15, 91]])"
      ]
     },
     "execution_count": 4,
     "metadata": {},
     "output_type": "execute_result"
    }
   ],
   "source": [
    "loots_per_character_per_floor[..., -1]"
   ]
  },
  {
   "cell_type": "markdown",
   "metadata": {},
   "source": [
    "# Indexing"
   ]
  },
  {
   "cell_type": "code",
   "execution_count": 1,
   "metadata": {},
   "outputs": [],
   "source": [
    "import numpy as np\n",
    "np.set_printoptions(suppress=True)"
   ]
  },
  {
   "cell_type": "code",
   "execution_count": 2,
   "metadata": {},
   "outputs": [
    {
     "data": {
      "text/plain": [
       "array([[ 1, 28],\n",
       "       [ 3, 58],\n",
       "       [ 1, 70],\n",
       "       [ 2, 31],\n",
       "       [ 1, 54],\n",
       "       [ 3, 34],\n",
       "       [ 3,  9],\n",
       "       [ 1, 34],\n",
       "       [ 3, 58],\n",
       "       [ 0, 14]])"
      ]
     },
     "execution_count": 2,
     "metadata": {},
     "output_type": "execute_result"
    }
   ],
   "source": [
    "devises = np.array([20, 1.8, .5, 12])\n",
    "loots = np.concatenate([np.random.randint(0, 4, (10,))[:, None],\n",
    "                        np.random.randint(0, 100, (10,))[:, None]],\n",
    "                       axis=1)\n",
    "loots"
   ]
  },
  {
   "cell_type": "code",
   "execution_count": 3,
   "metadata": {},
   "outputs": [
    {
     "data": {
      "text/plain": [
       "array([[ 560. ,   50.4,   14. ,  336. ],\n",
       "       [1160. ,  104.4,   29. ,  696. ],\n",
       "       [1400. ,  126. ,   35. ,  840. ],\n",
       "       [ 620. ,   55.8,   15.5,  372. ],\n",
       "       [1080. ,   97.2,   27. ,  648. ],\n",
       "       [ 680. ,   61.2,   17. ,  408. ],\n",
       "       [ 180. ,   16.2,    4.5,  108. ],\n",
       "       [ 680. ,   61.2,   17. ,  408. ],\n",
       "       [1160. ,  104.4,   29. ,  696. ],\n",
       "       [ 280. ,   25.2,    7. ,  168. ]])"
      ]
     },
     "execution_count": 3,
     "metadata": {},
     "output_type": "execute_result"
    }
   ],
   "source": [
    "loots[:, 1][:, None] * devises"
   ]
  },
  {
   "cell_type": "code",
   "execution_count": 4,
   "metadata": {},
   "outputs": [
    {
     "data": {
      "text/plain": [
       "array([ 50.4, 696. , 126. ,  15.5,  97.2, 408. , 108. ,  61.2, 696. ,\n",
       "       280. ])"
      ]
     },
     "execution_count": 4,
     "metadata": {},
     "output_type": "execute_result"
    }
   ],
   "source": [
    "(loots[:, 1][:, None] * devises)[np.arange(len(loots)), loots[:, 0]]"
   ]
  },
  {
   "cell_type": "markdown",
   "metadata": {},
   "source": [
    "# C-order vs F-order"
   ]
  },
  {
   "cell_type": "code",
   "execution_count": 2,
   "metadata": {},
   "outputs": [
    {
     "name": "stdout",
     "output_type": "stream",
     "text": [
      "144 ms ± 1.48 ms per loop (mean ± std. dev. of 7 runs, 10 loops each)\n"
     ]
    }
   ],
   "source": [
    "a = np.random.rand(100, 1000000)\n",
    "%timeit  a.sum(axis=0)"
   ]
  },
  {
   "cell_type": "code",
   "execution_count": 3,
   "metadata": {},
   "outputs": [
    {
     "name": "stdout",
     "output_type": "stream",
     "text": [
      "60.8 ms ± 70.7 µs per loop (mean ± std. dev. of 7 runs, 10 loops each)\n"
     ]
    }
   ],
   "source": [
    "b = a.astype(dtype=a.dtype, order='F')\n",
    "%timeit  b.sum(axis=0)"
   ]
  },
  {
   "cell_type": "code",
   "execution_count": null,
   "metadata": {},
   "outputs": [],
   "source": []
  },
  {
   "cell_type": "markdown",
   "metadata": {},
   "source": [
    "# Einsum"
   ]
  },
  {
   "cell_type": "code",
   "execution_count": 2,
   "metadata": {},
   "outputs": [
    {
     "data": {
      "text/plain": [
       "(5, 4)"
      ]
     },
     "execution_count": 2,
     "metadata": {},
     "output_type": "execute_result"
    }
   ],
   "source": [
    "# character attributes = health, speed, strength, mana\n",
    "attributes = np.array([[72, 15, 48, 22],\n",
    "                      [68, 8, 44, 87],\n",
    "                      [65, 12, 56, 28],\n",
    "                      [82, 7, 78, 1],\n",
    "                      [67, 11, 62, 14]])\n",
    "attributes.shape"
   ]
  },
  {
   "cell_type": "code",
   "execution_count": 3,
   "metadata": {},
   "outputs": [
    {
     "data": {
      "text/plain": [
       "array([[ 7, 46,  7,  6, 37],\n",
       "       [66, 48, 19, 57, 86],\n",
       "       [21, 94, 35, 61, 12]])"
      ]
     },
     "execution_count": 3,
     "metadata": {},
     "output_type": "execute_result"
    }
   ],
   "source": [
    "loots = np.random.randint(0, 100, (3, 5))\n",
    "loots"
   ]
  },
  {
   "cell_type": "code",
   "execution_count": 4,
   "metadata": {},
   "outputs": [
    {
     "data": {
      "text/plain": [
       "array([[[ 0.09722222,  0.46666667,  0.14583333,  0.31818182],\n",
       "        [ 0.67647059,  5.75      ,  1.04545455,  0.52873563],\n",
       "        [ 0.10769231,  0.58333333,  0.125     ,  0.25      ],\n",
       "        [ 0.07317073,  0.85714286,  0.07692308,  6.        ],\n",
       "        [ 0.55223881,  3.36363636,  0.59677419,  2.64285714]],\n",
       "\n",
       "       [[ 0.91666667,  4.4       ,  1.375     ,  3.        ],\n",
       "        [ 0.70588235,  6.        ,  1.09090909,  0.55172414],\n",
       "        [ 0.29230769,  1.58333333,  0.33928571,  0.67857143],\n",
       "        [ 0.69512195,  8.14285714,  0.73076923, 57.        ],\n",
       "        [ 1.28358209,  7.81818182,  1.38709677,  6.14285714]],\n",
       "\n",
       "       [[ 0.29166667,  1.4       ,  0.4375    ,  0.95454545],\n",
       "        [ 1.38235294, 11.75      ,  2.13636364,  1.08045977],\n",
       "        [ 0.53846154,  2.91666667,  0.625     ,  1.25      ],\n",
       "        [ 0.74390244,  8.71428571,  0.78205128, 61.        ],\n",
       "        [ 0.17910448,  1.09090909,  0.19354839,  0.85714286]]])"
      ]
     },
     "execution_count": 4,
     "metadata": {},
     "output_type": "execute_result"
    }
   ],
   "source": [
    "loots[:, :, None] / attributes"
   ]
  },
  {
   "cell_type": "code",
   "execution_count": 5,
   "metadata": {},
   "outputs": [
    {
     "data": {
      "text/plain": [
       "array([[[ 0.09722222,  0.46666667,  0.14583333,  0.31818182],\n",
       "        [ 0.67647059,  5.75      ,  1.04545455,  0.52873563],\n",
       "        [ 0.10769231,  0.58333333,  0.125     ,  0.25      ],\n",
       "        [ 0.07317073,  0.85714286,  0.07692308,  6.        ],\n",
       "        [ 0.55223881,  3.36363636,  0.59677419,  2.64285714]],\n",
       "\n",
       "       [[ 0.91666667,  4.4       ,  1.375     ,  3.        ],\n",
       "        [ 0.70588235,  6.        ,  1.09090909,  0.55172414],\n",
       "        [ 0.29230769,  1.58333333,  0.33928571,  0.67857143],\n",
       "        [ 0.69512195,  8.14285714,  0.73076923, 57.        ],\n",
       "        [ 1.28358209,  7.81818182,  1.38709677,  6.14285714]],\n",
       "\n",
       "       [[ 0.29166667,  1.4       ,  0.4375    ,  0.95454545],\n",
       "        [ 1.38235294, 11.75      ,  2.13636364,  1.08045977],\n",
       "        [ 0.53846154,  2.91666667,  0.625     ,  1.25      ],\n",
       "        [ 0.74390244,  8.71428571,  0.78205128, 61.        ],\n",
       "        [ 0.17910448,  1.09090909,  0.19354839,  0.85714286]]])"
      ]
     },
     "execution_count": 5,
     "metadata": {},
     "output_type": "execute_result"
    }
   ],
   "source": [
    "np.einsum('ij, jk -> ijk', loots, 1 / attributes)"
   ]
  },
  {
   "cell_type": "markdown",
   "metadata": {},
   "source": [
    "# View vs copy"
   ]
  },
  {
   "cell_type": "code",
   "execution_count": 11,
   "metadata": {},
   "outputs": [
    {
     "data": {
      "text/plain": [
       "array([[ 0,  1,  2,  3,  4,  5],\n",
       "       [ 6,  7,  8,  9, 10, 11],\n",
       "       [12, 13, 14, 15, 16, 17]])"
      ]
     },
     "execution_count": 11,
     "metadata": {},
     "output_type": "execute_result"
    }
   ],
   "source": [
    "a = np.arange(18).reshape(3, 6)\n",
    "a"
   ]
  },
  {
   "cell_type": "code",
   "execution_count": 10,
   "metadata": {},
   "outputs": [
    {
     "data": {
      "text/plain": [
       "array([[ 0, -1,  2,  3,  4,  5],\n",
       "       [ 6,  7, -1,  9, 10, 11],\n",
       "       [12, 13, 14, -1, 16, 17]])"
      ]
     },
     "execution_count": 10,
     "metadata": {},
     "output_type": "execute_result"
    }
   ],
   "source": [
    "a[np.arange(3), [1, 2, 3]] = -1\n",
    "a"
   ]
  },
  {
   "cell_type": "code",
   "execution_count": 16,
   "metadata": {},
   "outputs": [
    {
     "data": {
      "text/plain": [
       "array([[-1,  1,  2, -1,  4,  5],\n",
       "       [-1,  7,  8, -1, 10, 11],\n",
       "       [-1, 13, 14, -1, 16, 17]])"
      ]
     },
     "execution_count": 16,
     "metadata": {},
     "output_type": "execute_result"
    }
   ],
   "source": [
    "a[np.mod(a, 3) == 0] = -1\n",
    "a"
   ]
  },
  {
   "cell_type": "code",
   "execution_count": null,
   "metadata": {},
   "outputs": [],
   "source": []
  },
  {
   "cell_type": "code",
   "execution_count": 41,
   "metadata": {},
   "outputs": [
    {
     "data": {
      "text/plain": [
       "(array([0, 1, 2, 3, 4, 5, 6, 7, 8, 9]), array([3, 4, 2, 3, 2, 2, 4, 3, 0, 4]))"
      ]
     },
     "execution_count": 41,
     "metadata": {},
     "output_type": "execute_result"
    }
   ],
   "source": [
    "np.arange(len(loots)), loots[:, 0]"
   ]
  },
  {
   "cell_type": "code",
   "execution_count": 1,
   "metadata": {},
   "outputs": [],
   "source": [
    "import numpy as np"
   ]
  },
  {
   "cell_type": "code",
   "execution_count": 36,
   "metadata": {},
   "outputs": [
    {
     "data": {
      "text/plain": [
       "array([[ 0,  1,  2],\n",
       "       [ 3,  4,  5],\n",
       "       [ 6,  7,  8],\n",
       "       [ 9, 10, 11],\n",
       "       [12, 13, 14],\n",
       "       [15, 16, 17],\n",
       "       [18, 19, 20],\n",
       "       [21, 22, 23],\n",
       "       [24, 25, 26]])"
      ]
     },
     "execution_count": 36,
     "metadata": {},
     "output_type": "execute_result"
    }
   ],
   "source": [
    "a = np.arange(27).reshape((9, 3))\n",
    "a"
   ]
  },
  {
   "cell_type": "code",
   "execution_count": 40,
   "metadata": {},
   "outputs": [
    {
     "ename": "IndexError",
     "evalue": "shape mismatch: indexing arrays could not be broadcast together with shapes (9,) (2,) ",
     "output_type": "error",
     "traceback": [
      "\u001b[0;31m---------------------------------------------------------------------------\u001b[0m",
      "\u001b[0;31mIndexError\u001b[0m                                Traceback (most recent call last)",
      "\u001b[0;32m<ipython-input-40-7558b5912a8b>\u001b[0m in \u001b[0;36m<module>\u001b[0;34m()\u001b[0m\n\u001b[0;32m----> 1\u001b[0;31m \u001b[0ma\u001b[0m\u001b[0;34m[\u001b[0m\u001b[0mnp\u001b[0m\u001b[0;34m.\u001b[0m\u001b[0marange\u001b[0m\u001b[0;34m(\u001b[0m\u001b[0mlen\u001b[0m\u001b[0;34m(\u001b[0m\u001b[0ma\u001b[0m\u001b[0;34m)\u001b[0m\u001b[0;34m)\u001b[0m\u001b[0;34m,\u001b[0m \u001b[0;34m[\u001b[0m\u001b[0;36m1\u001b[0m\u001b[0;34m,\u001b[0m \u001b[0;36m2\u001b[0m\u001b[0;34m]\u001b[0m\u001b[0;34m]\u001b[0m\u001b[0;34m\u001b[0m\u001b[0m\n\u001b[0m",
      "\u001b[0;31mIndexError\u001b[0m: shape mismatch: indexing arrays could not be broadcast together with shapes (9,) (2,) "
     ]
    }
   ],
   "source": []
  },
  {
   "cell_type": "code",
   "execution_count": null,
   "metadata": {},
   "outputs": [],
   "source": []
  },
  {
   "cell_type": "markdown",
   "metadata": {},
   "source": [
    "## Under the hood"
   ]
  },
  {
   "cell_type": "code",
   "execution_count": null,
   "metadata": {},
   "outputs": [],
   "source": [
    "vectorization -> splitting loot part depending on character weight / contribution\n"
   ]
  },
  {
   "cell_type": "markdown",
   "metadata": {},
   "source": [
    "## Vectorization"
   ]
  },
  {
   "cell_type": "markdown",
   "metadata": {},
   "source": [
    "The maze of indexing"
   ]
  },
  {
   "cell_type": "code",
   "execution_count": null,
   "metadata": {},
   "outputs": [],
   "source": [
    "normalization in one line"
   ]
  },
  {
   "cell_type": "markdown",
   "metadata": {},
   "source": [
    "## Broadcasting"
   ]
  },
  {
   "cell_type": "code",
   "execution_count": null,
   "metadata": {},
   "outputs": [],
   "source": [
    "Crazy things with indexing"
   ]
  },
  {
   "cell_type": "code",
   "execution_count": null,
   "metadata": {},
   "outputs": [],
   "source": [
    "using weights / weighting samples"
   ]
  },
  {
   "cell_type": "markdown",
   "metadata": {},
   "source": [
    "## Ufuncs"
   ]
  },
  {
   "cell_type": "code",
   "execution_count": 1,
   "metadata": {},
   "outputs": [],
   "source": [
    "import numpy as np"
   ]
  },
  {
   "cell_type": "code",
   "execution_count": 2,
   "metadata": {},
   "outputs": [],
   "source": [
    "# closest value from a reference list\n",
    "ref_list = np.array([2, 5, 12])"
   ]
  },
  {
   "cell_type": "code",
   "execution_count": 3,
   "metadata": {},
   "outputs": [],
   "source": [
    "def closest(a, ref):\n",
    "    return ref[(np.abs(ref - a)).argmin()]    "
   ]
  },
  {
   "cell_type": "code",
   "execution_count": 4,
   "metadata": {},
   "outputs": [],
   "source": [
    "x = np.random.randint(0, 20, size=(1000))"
   ]
  },
  {
   "cell_type": "code",
   "execution_count": 5,
   "metadata": {},
   "outputs": [
    {
     "name": "stdout",
     "output_type": "stream",
     "text": [
      "5.81 ms ± 554 µs per loop (mean ± std. dev. of 7 runs, 100 loops each)\n"
     ]
    }
   ],
   "source": [
    "%timeit np.apply_along_axis(closest, 1, x[:, None], ref_list)"
   ]
  },
  {
   "cell_type": "code",
   "execution_count": 6,
   "metadata": {},
   "outputs": [],
   "source": [
    "closest_vect = np.vectorize(closest, excluded=['ref'])"
   ]
  },
  {
   "cell_type": "code",
   "execution_count": 7,
   "metadata": {},
   "outputs": [
    {
     "name": "stdout",
     "output_type": "stream",
     "text": [
      "4.29 ms ± 516 µs per loop (mean ± std. dev. of 7 runs, 100 loops each)\n"
     ]
    }
   ],
   "source": [
    "%timeit closest_vect(x, ref=ref_list)"
   ]
  },
  {
   "cell_type": "code",
   "execution_count": 8,
   "metadata": {},
   "outputs": [],
   "source": [
    "def closest_numpy(arr, ref):\n",
    "    return ref[(np.abs(arr[:, None] - ref)).argmin(axis=1)]"
   ]
  },
  {
   "cell_type": "code",
   "execution_count": 9,
   "metadata": {},
   "outputs": [
    {
     "data": {
      "text/plain": [
       "array([[ 2,  5, 12],\n",
       "       [ 1,  4, 11],\n",
       "       [ 0,  3, 10],\n",
       "       [ 1,  2,  9],\n",
       "       [ 2,  1,  8]])"
      ]
     },
     "execution_count": 9,
     "metadata": {},
     "output_type": "execute_result"
    }
   ],
   "source": [
    "ex = np.arange(5)\n",
    "np.abs(ex[:, None] - ref_list)"
   ]
  },
  {
   "cell_type": "code",
   "execution_count": 10,
   "metadata": {},
   "outputs": [
    {
     "name": "stdout",
     "output_type": "stream",
     "text": [
      "28.7 µs ± 1.9 µs per loop (mean ± std. dev. of 7 runs, 10000 loops each)\n"
     ]
    }
   ],
   "source": [
    "%timeit closest_numpy(x, ref=ref_list)"
   ]
  },
  {
   "cell_type": "code",
   "execution_count": 11,
   "metadata": {},
   "outputs": [],
   "source": [
    "from numba import vectorize, int64"
   ]
  },
  {
   "cell_type": "code",
   "execution_count": 12,
   "metadata": {},
   "outputs": [],
   "source": [
    "@vectorize([int64(int64)], nopython=True)\n",
    "def closest_numba(a):\n",
    "    ref = ref_list\n",
    "    return ref[(np.abs(ref - a)).argmin()]    "
   ]
  },
  {
   "cell_type": "code",
   "execution_count": 13,
   "metadata": {},
   "outputs": [
    {
     "name": "stdout",
     "output_type": "stream",
     "text": [
      "96.8 µs ± 3.36 µs per loop (mean ± std. dev. of 7 runs, 10000 loops each)\n"
     ]
    }
   ],
   "source": [
    "%timeit closest_numba(x)"
   ]
  },
  {
   "cell_type": "code",
   "execution_count": 14,
   "metadata": {},
   "outputs": [
    {
     "data": {
      "text/plain": [
       "array([ 2,  2,  2,  2,  5,  5,  5,  5,  5, 12, 10, 11, 12, 13, 14])"
      ]
     },
     "execution_count": 14,
     "metadata": {},
     "output_type": "execute_result"
    }
   ],
   "source": [
    "ex = np.arange(15)\n",
    "closest_numba.at(ex, ex < 10)\n",
    "ex"
   ]
  },
  {
   "cell_type": "code",
   "execution_count": 15,
   "metadata": {},
   "outputs": [
    {
     "data": {
      "text/plain": [
       "105"
      ]
     },
     "execution_count": 15,
     "metadata": {},
     "output_type": "execute_result"
    }
   ],
   "source": [
    "np.add.reduce(ex)"
   ]
  },
  {
   "cell_type": "code",
   "execution_count": 16,
   "metadata": {},
   "outputs": [
    {
     "data": {
      "text/plain": [
       "105"
      ]
     },
     "execution_count": 16,
     "metadata": {},
     "output_type": "execute_result"
    }
   ],
   "source": [
    "ex.sum()"
   ]
  },
  {
   "cell_type": "markdown",
   "metadata": {},
   "source": [
    "## Numba and Numexpr"
   ]
  },
  {
   "cell_type": "code",
   "execution_count": 1,
   "metadata": {},
   "outputs": [],
   "source": [
    "import numpy as np\n",
    "np.set_printoptions(suppress=True)"
   ]
  },
  {
   "cell_type": "markdown",
   "metadata": {},
   "source": [
    "$ d_{euclid}(a, b) = \\sqrt{||a-b||^2} =  \\sqrt{ (a_1 - b_1)^2 + (a_2 - b_2)^2}  $"
   ]
  },
  {
   "cell_type": "code",
   "execution_count": 2,
   "metadata": {},
   "outputs": [],
   "source": [
    "N = 1000\n",
    "A = np.random.rand(N, 2) + 1\n",
    "B = np.random.rand(N, 2) + 1"
   ]
  },
  {
   "cell_type": "code",
   "execution_count": 3,
   "metadata": {},
   "outputs": [],
   "source": [
    "def euclid(a, b):\n",
    "    return np.sqrt(np.dot(a - b, (a - b).T))"
   ]
  },
  {
   "cell_type": "code",
   "execution_count": 4,
   "metadata": {},
   "outputs": [],
   "source": [
    "def naive_euclid(X, Y):\n",
    "    res = np.empty((len(X), len(Y)))\n",
    "    for i in range(len(X)):\n",
    "        for j in range(len(Y)):\n",
    "            res[i, j] = euclid(X[i], Y[j])\n",
    "    return res"
   ]
  },
  {
   "cell_type": "code",
   "execution_count": 5,
   "metadata": {},
   "outputs": [
    {
     "name": "stdout",
     "output_type": "stream",
     "text": [
      "3.97 s ± 145 ms per loop (mean ± std. dev. of 7 runs, 1 loop each)\n"
     ]
    }
   ],
   "source": [
    "%timeit naive_euclid(A, B)"
   ]
  },
  {
   "cell_type": "code",
   "execution_count": 6,
   "metadata": {},
   "outputs": [],
   "source": [
    "def vectorized_euclid(X, Y):\n",
    "    diff = X[np.newaxis] - Y[:, np.newaxis]\n",
    "    return np.sqrt(np.einsum('ijk, ijk -> ji', diff, diff))"
   ]
  },
  {
   "cell_type": "code",
   "execution_count": 7,
   "metadata": {},
   "outputs": [
    {
     "data": {
      "text/plain": [
       "True"
      ]
     },
     "execution_count": 7,
     "metadata": {},
     "output_type": "execute_result"
    }
   ],
   "source": [
    "np.allclose(naive_euclid(A, B), vectorized_euclid(A, B))"
   ]
  },
  {
   "cell_type": "code",
   "execution_count": 8,
   "metadata": {},
   "outputs": [
    {
     "name": "stdout",
     "output_type": "stream",
     "text": [
      "22.5 ms ± 70.1 µs per loop (mean ± std. dev. of 7 runs, 10 loops each)\n"
     ]
    }
   ],
   "source": [
    "%timeit vectorized_euclid(A, B)"
   ]
  },
  {
   "cell_type": "code",
   "execution_count": 9,
   "metadata": {},
   "outputs": [],
   "source": [
    "from sklearn.metrics import pairwise_distances"
   ]
  },
  {
   "cell_type": "code",
   "execution_count": 10,
   "metadata": {},
   "outputs": [
    {
     "data": {
      "text/plain": [
       "True"
      ]
     },
     "execution_count": 10,
     "metadata": {},
     "output_type": "execute_result"
    }
   ],
   "source": [
    "np.allclose(pairwise_distances(A, B), vectorized_euclid(A, B))"
   ]
  },
  {
   "cell_type": "code",
   "execution_count": 11,
   "metadata": {},
   "outputs": [
    {
     "name": "stdout",
     "output_type": "stream",
     "text": [
      "7.14 ms ± 459 µs per loop (mean ± std. dev. of 7 runs, 100 loops each)\n"
     ]
    }
   ],
   "source": [
    "%timeit pairwise_distances(A, B, metric='euclidean')"
   ]
  },
  {
   "cell_type": "code",
   "execution_count": 12,
   "metadata": {},
   "outputs": [],
   "source": [
    "from numba import jit"
   ]
  },
  {
   "cell_type": "code",
   "execution_count": 13,
   "metadata": {},
   "outputs": [],
   "source": [
    "@jit\n",
    "def numba_euclid(X, Y):\n",
    "    res = np.empty((len(X), len(Y)))\n",
    "    for i in range(len(X)):\n",
    "        for j in range(len(Y)):\n",
    "            res[i, j] = np.sqrt(np.dot(X[i] - Y[j], X[i] - Y[j]))\n",
    "    return res"
   ]
  },
  {
   "cell_type": "code",
   "execution_count": 14,
   "metadata": {},
   "outputs": [
    {
     "name": "stdout",
     "output_type": "stream",
     "text": [
      "147 ms ± 2.66 ms per loop (mean ± std. dev. of 7 runs, 1 loop each)\n"
     ]
    }
   ],
   "source": [
    "%timeit numba_euclid(A, B)"
   ]
  },
  {
   "cell_type": "code",
   "execution_count": 24,
   "metadata": {},
   "outputs": [],
   "source": [
    "@jit\n",
    "def vectorized_euclid_numba(X, Y):\n",
    "    diff = X[np.newaxis] - Y[:, np.newaxis]\n",
    "    return np.sqrt(np.einsum('ijk, ijk -> ji', diff, diff))"
   ]
  },
  {
   "cell_type": "code",
   "execution_count": 25,
   "metadata": {},
   "outputs": [
    {
     "name": "stdout",
     "output_type": "stream",
     "text": [
      "22.2 ms ± 80 µs per loop (mean ± std. dev. of 7 runs, 10 loops each)\n"
     ]
    }
   ],
   "source": [
    "%timeit vectorized_euclid_numba(A, B)"
   ]
  },
  {
   "cell_type": "code",
   "execution_count": null,
   "metadata": {},
   "outputs": [],
   "source": []
  },
  {
   "cell_type": "code",
   "execution_count": null,
   "metadata": {},
   "outputs": [],
   "source": []
  },
  {
   "cell_type": "code",
   "execution_count": null,
   "metadata": {},
   "outputs": [],
   "source": []
  },
  {
   "cell_type": "markdown",
   "metadata": {},
   "source": [
    "$d_{poinc}(a, b) = \\mbox{arccosh} \\left(1 + 2 \\frac{||a - b ||^2}{(1 - ||a||^2) (1 - ||b|| ^2 )} \\right)$"
   ]
  },
  {
   "cell_type": "code",
   "execution_count": 17,
   "metadata": {},
   "outputs": [],
   "source": [
    "def poinc(a, b):\n",
    "    return np.arccosh(1+ 2* np.dot(a-b, a-b)/ ((1-np.dot(a,a))*(1-np.dot(b,b))))"
   ]
  },
  {
   "cell_type": "code",
   "execution_count": 18,
   "metadata": {},
   "outputs": [],
   "source": [
    "def naive_poinc(X, Y):\n",
    "    res = np.empty((len(X), len(Y)))\n",
    "    for i in range(len(X)):\n",
    "        for j in range(len(Y)):\n",
    "            res[i, j] = poinc(X[i], Y[j])\n",
    "    return res"
   ]
  },
  {
   "cell_type": "code",
   "execution_count": 19,
   "metadata": {},
   "outputs": [
    {
     "name": "stdout",
     "output_type": "stream",
     "text": [
      "6.23 s ± 245 ms per loop (mean ± std. dev. of 7 runs, 1 loop each)\n"
     ]
    }
   ],
   "source": [
    "%timeit naive_poinc(A, B)"
   ]
  },
  {
   "cell_type": "code",
   "execution_count": 20,
   "metadata": {},
   "outputs": [],
   "source": [
    "def numpy_poinc(X, Y):\n",
    "    diff = X[np.newaxis] - Y[:, np.newaxis]\n",
    "    num = np.einsum('ijk, ijk -> ji', diff, diff)\n",
    "    den1 = 1 - np.einsum('ij, ji->i', X, X.T)\n",
    "    den2 = 1 - np.einsum('ij, ji->i', Y, Y.T)\n",
    "    den = den1[:, np.newaxis] * den2[np.newaxis]\n",
    "    return np.arccosh(1 + 2 * num / den)    "
   ]
  },
  {
   "cell_type": "code",
   "execution_count": 21,
   "metadata": {},
   "outputs": [
    {
     "name": "stdout",
     "output_type": "stream",
     "text": [
      "34.7 ms ± 2.59 ms per loop (mean ± std. dev. of 7 runs, 10 loops each)\n"
     ]
    }
   ],
   "source": [
    "%timeit numpy_poinc(A, B)"
   ]
  },
  {
   "cell_type": "code",
   "execution_count": 22,
   "metadata": {},
   "outputs": [],
   "source": [
    "@jit(nopython=True)\n",
    "def numba_poinc(X, Y):\n",
    "    def poinc(a, b):\n",
    "        return np.arccosh(1+ 2* np.dot(a-b, a-b)/ ((1-np.dot(a,a))*(1-np.dot(b,b))))\n",
    "    res = np.empty((len(X), len(Y)))\n",
    "    i = 0\n",
    "    for i in range(len(X)):\n",
    "        for j in range(len(Y)):\n",
    "            res[i, j] = poinc(X[i], Y[j])\n",
    "    return res"
   ]
  },
  {
   "cell_type": "code",
   "execution_count": 23,
   "metadata": {},
   "outputs": [
    {
     "name": "stdout",
     "output_type": "stream",
     "text": [
      "220 ms ± 7.53 ms per loop (mean ± std. dev. of 7 runs, 1 loop each)\n"
     ]
    }
   ],
   "source": [
    "%timeit numba_poinc(A, B)"
   ]
  },
  {
   "cell_type": "markdown",
   "metadata": {},
   "source": [
    "# Strides"
   ]
  },
  {
   "cell_type": "code",
   "execution_count": null,
   "metadata": {},
   "outputs": [],
   "source": []
  },
  {
   "cell_type": "code",
   "execution_count": null,
   "metadata": {},
   "outputs": [],
   "source": []
  },
  {
   "cell_type": "code",
   "execution_count": null,
   "metadata": {},
   "outputs": [],
   "source": []
  },
  {
   "cell_type": "markdown",
   "metadata": {},
   "source": [
    "# Windowed average"
   ]
  },
  {
   "cell_type": "code",
   "execution_count": 2,
   "metadata": {},
   "outputs": [],
   "source": [
    "speed = np.random.rand(300000) * 75"
   ]
  },
  {
   "cell_type": "code",
   "execution_count": 3,
   "metadata": {},
   "outputs": [],
   "source": [
    "def windowed_average(a, n):\n",
    "    av = np.empty(len(a) - n + 1)\n",
    "    for i in range(len(a) - n):\n",
    "        av[i] = a[i:i+n].sum() / n\n",
    "    return av"
   ]
  },
  {
   "cell_type": "code",
   "execution_count": 4,
   "metadata": {},
   "outputs": [
    {
     "data": {
      "text/plain": [
       "array([ 2.,  3.,  4.,  5.,  6.,  7.,  8.,  9., 10., 11., 12., 13., 14.,\n",
       "       15., 16., 17., 18., 19., 20., 21., 22., 23., 24., 25., 26.,  0.])"
      ]
     },
     "execution_count": 4,
     "metadata": {},
     "output_type": "execute_result"
    }
   ],
   "source": [
    "windowed_average(np.arange(30), 5)"
   ]
  },
  {
   "cell_type": "code",
   "execution_count": 5,
   "metadata": {},
   "outputs": [
    {
     "name": "stdout",
     "output_type": "stream",
     "text": [
      "744 ms ± 89.3 ms per loop (mean ± std. dev. of 7 runs, 1 loop each)\n"
     ]
    }
   ],
   "source": [
    "%timeit windowed_average(speed, 5)"
   ]
  },
  {
   "cell_type": "code",
   "execution_count": 8,
   "metadata": {},
   "outputs": [
    {
     "name": "stdout",
     "output_type": "stream",
     "text": [
      "544 µs ± 64.7 µs per loop (mean ± std. dev. of 7 runs, 1000 loops each)\n"
     ]
    }
   ],
   "source": [
    "%timeit windowed_average_conv(speed, 5)"
   ]
  },
  {
   "cell_type": "code",
   "execution_count": 11,
   "metadata": {},
   "outputs": [
    {
     "name": "stdout",
     "output_type": "stream",
     "text": [
      "3.17 ms ± 509 µs per loop (mean ± std. dev. of 7 runs, 100 loops each)\n"
     ]
    }
   ],
   "source": [
    "%timeit windowed_average_cumsum(speed, 5)"
   ]
  },
  {
   "cell_type": "code",
   "execution_count": 6,
   "metadata": {},
   "outputs": [],
   "source": [
    "def windowed_average_conv(a, n):\n",
    "    return np.convolve(a, np.ones((n,))/n, mode='valid')"
   ]
  },
  {
   "cell_type": "code",
   "execution_count": 7,
   "metadata": {},
   "outputs": [
    {
     "data": {
      "text/plain": [
       "array([ 2.,  3.,  4.,  5.,  6.,  7.,  8.,  9., 10., 11., 12., 13., 14.,\n",
       "       15., 16., 17., 18., 19., 20., 21., 22., 23., 24., 25., 26., 27.])"
      ]
     },
     "execution_count": 7,
     "metadata": {},
     "output_type": "execute_result"
    }
   ],
   "source": [
    "windowed_average_conv(np.arange(30), 5)"
   ]
  },
  {
   "cell_type": "code",
   "execution_count": 9,
   "metadata": {},
   "outputs": [],
   "source": [
    "def windowed_average_cumsum(a, n):\n",
    "    cumsum = np.cumsum(np.insert(a, 0, 0)) \n",
    "    return (cumsum[n:] - cumsum[:-n]) / float(n)"
   ]
  },
  {
   "cell_type": "code",
   "execution_count": 10,
   "metadata": {},
   "outputs": [
    {
     "data": {
      "text/plain": [
       "array([ 2.,  3.,  4.,  5.,  6.,  7.,  8.,  9., 10., 11., 12., 13., 14.,\n",
       "       15., 16., 17., 18., 19., 20., 21., 22., 23., 24., 25., 26., 27.])"
      ]
     },
     "execution_count": 10,
     "metadata": {},
     "output_type": "execute_result"
    }
   ],
   "source": [
    "windowed_average_cumsum(np.arange(30), 5)"
   ]
  },
  {
   "cell_type": "code",
   "execution_count": 21,
   "metadata": {},
   "outputs": [],
   "source": [
    "from numpy.lib.stride_tricks import as_strided\n",
    "\n",
    "def windowed_median_strides(a, n):\n",
    "    stride = a.strides[0]\n",
    "    return np.median(as_strided(a, shape=[len(a) - n + 1, n], strides=[stride, stride]), axis=1)"
   ]
  },
  {
   "cell_type": "code",
   "execution_count": 22,
   "metadata": {},
   "outputs": [
    {
     "data": {
      "text/plain": [
       "array([ 2.,  3.,  4.,  5.,  6.,  7.,  8.,  9., 10., 11., 12., 13., 14.,\n",
       "       15., 16., 17., 18., 19., 20., 21., 22., 23., 24., 25., 26., 27.])"
      ]
     },
     "execution_count": 22,
     "metadata": {},
     "output_type": "execute_result"
    }
   ],
   "source": [
    "windowed_median_strides(np.arange(30), 5)"
   ]
  },
  {
   "cell_type": "code",
   "execution_count": 124,
   "metadata": {},
   "outputs": [
    {
     "name": "stdout",
     "output_type": "stream",
     "text": [
      "20.1 ms ± 220 µs per loop (mean ± std. dev. of 7 runs, 10 loops each)\n"
     ]
    }
   ],
   "source": [
    "%timeit windowed_median_strides(speed, 5)"
   ]
  },
  {
   "cell_type": "code",
   "execution_count": null,
   "metadata": {},
   "outputs": [],
   "source": []
  },
  {
   "cell_type": "code",
   "execution_count": 3,
   "metadata": {},
   "outputs": [],
   "source": [
    "from numba import guvectorize, float64, int64"
   ]
  },
  {
   "cell_type": "code",
   "execution_count": 9,
   "metadata": {},
   "outputs": [],
   "source": [
    "@guvectorize(['void(float64[:], int64, float64[:])'], '(n),()->(n)', nopython=True)\n",
    "def windowed_median(a, n, out):\n",
    "    for i in range(len(a) - n + 1):\n",
    "        out[i] = np.median(a[i: i + n])"
   ]
  },
  {
   "cell_type": "code",
   "execution_count": 10,
   "metadata": {},
   "outputs": [
    {
     "data": {
      "text/plain": [
       "array([ 2.,  3.,  4.,  5.,  6.,  7.,  8.,  9., 10., 11., 12., 13., 14.,\n",
       "       15., 16., 17., 18., 19., 20., 21., 22., 23., 24., 25., 26., 27.,\n",
       "        0.,  0.,  0.,  0.])"
      ]
     },
     "execution_count": 10,
     "metadata": {},
     "output_type": "execute_result"
    }
   ],
   "source": [
    "windowed_median(np.arange(30), 5)"
   ]
  },
  {
   "cell_type": "code",
   "execution_count": 11,
   "metadata": {},
   "outputs": [
    {
     "name": "stdout",
     "output_type": "stream",
     "text": [
      "47.4 ms ± 44.7 µs per loop (mean ± std. dev. of 7 runs, 10 loops each)\n"
     ]
    }
   ],
   "source": [
    "%timeit windowed_median(speed, 5)"
   ]
  },
  {
   "cell_type": "code",
   "execution_count": 7,
   "metadata": {},
   "outputs": [],
   "source": [
    "@guvectorize(['void(float64[:], int64, float64[:])'], '(n),()->(n)', nopython=True)\n",
    "def windowed_average_numba(a, window_width, out):\n",
    "    asum = 0.0\n",
    "    count = 0\n",
    "    for i in range(window_width):\n",
    "        asum += a[i]\n",
    "        count += 1\n",
    "        out[i] = asum / count\n",
    "    for i in range(window_width, len(a)):\n",
    "        asum += a[i] - a[i - window_width]\n",
    "        out[i] = asum / count"
   ]
  },
  {
   "cell_type": "code",
   "execution_count": 8,
   "metadata": {},
   "outputs": [
    {
     "data": {
      "text/plain": [
       "array([ 0. ,  0.5,  1. ,  1.5,  2. ,  3. ,  4. ,  5. ,  6. ,  7. ,  8. ,\n",
       "        9. , 10. , 11. , 12. , 13. , 14. , 15. , 16. , 17. , 18. , 19. ,\n",
       "       20. , 21. , 22. , 23. , 24. , 25. , 26. , 27. ])"
      ]
     },
     "execution_count": 8,
     "metadata": {},
     "output_type": "execute_result"
    }
   ],
   "source": [
    "windowed_average_numba(np.arange(30), 5)"
   ]
  },
  {
   "cell_type": "code",
   "execution_count": 6,
   "metadata": {},
   "outputs": [
    {
     "name": "stdout",
     "output_type": "stream",
     "text": [
      "421 µs ± 5.76 µs per loop (mean ± std. dev. of 7 runs, 1000 loops each)\n"
     ]
    }
   ],
   "source": [
    "%timeit windowed_average_numba(speed, 5)"
   ]
  },
  {
   "cell_type": "code",
   "execution_count": null,
   "metadata": {},
   "outputs": [],
   "source": []
  },
  {
   "cell_type": "markdown",
   "metadata": {},
   "source": [
    "## Dask"
   ]
  },
  {
   "cell_type": "code",
   "execution_count": null,
   "metadata": {},
   "outputs": [],
   "source": []
  }
 ],
 "metadata": {
  "kernelspec": {
   "display_name": "Python [conda env:lab]",
   "language": "python",
   "name": "conda-env-lab-py"
  },
  "language_info": {
   "codemirror_mode": {
    "name": "ipython",
    "version": 3
   },
   "file_extension": ".py",
   "mimetype": "text/x-python",
   "name": "python",
   "nbconvert_exporter": "python",
   "pygments_lexer": "ipython3",
   "version": "3.6.3"
  }
 },
 "nbformat": 4,
 "nbformat_minor": 2
}
